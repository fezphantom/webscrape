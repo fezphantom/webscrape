{
 "cells": [
  {
   "cell_type": "code",
   "execution_count": 1,
   "id": "4084b071-566c-4783-b2ce-d8a4fc581ed7",
   "metadata": {},
   "outputs": [],
   "source": [
    "from bs4 import BeautifulSoup"
   ]
  },
  {
   "cell_type": "code",
   "execution_count": 2,
   "id": "fd531b5f-ef57-412c-ad0a-836d7c86123e",
   "metadata": {},
   "outputs": [],
   "source": [
    "with open('manual1.html','r') as f:\n",
    "    page = f.read()"
   ]
  },
  {
   "cell_type": "code",
   "execution_count": 5,
   "id": "ba8a77fb-a5fe-486b-9de8-133ab94c2107",
   "metadata": {},
   "outputs": [],
   "source": [
    "soup = BeautifulSoup(page,'html.parser')"
   ]
  },
  {
   "cell_type": "code",
   "execution_count": 10,
   "id": "e6bc2ae8-f813-485e-b600-547bd09558ae",
   "metadata": {},
   "outputs": [],
   "source": [
    "results = soup.select('article h3[itemprop=\"name\"]')"
   ]
  },
  {
   "cell_type": "code",
   "execution_count": 13,
   "id": "0806ab34-230a-45e6-98e4-72fa61999f95",
   "metadata": {},
   "outputs": [],
   "source": [
    "titles = [r.text for r in results]\n"
   ]
  },
  {
   "cell_type": "code",
   "execution_count": 16,
   "id": "ab26e61c-1843-4e67-a0b8-7b2192c01b50",
   "metadata": {},
   "outputs": [],
   "source": [
    "results = soup.select('article p[itemprop=\"author\"]')"
   ]
  },
  {
   "cell_type": "code",
   "execution_count": 18,
   "id": "fb96fabb-ced6-4698-8abd-fb6110daa7c4",
   "metadata": {},
   "outputs": [],
   "source": [
    "authors = [r.text.replace('by','').lstrip() for r in results]"
   ]
  },
  {
   "cell_type": "code",
   "execution_count": 22,
   "id": "51b12732-044b-472d-8456-442b3d23c73e",
   "metadata": {},
   "outputs": [],
   "source": [
    "results = soup.select('article img[itemprop=\"image\"]')"
   ]
  },
  {
   "cell_type": "code",
   "execution_count": 25,
   "id": "1b5fc52c-70b3-4879-a555-e0434ee1acab",
   "metadata": {},
   "outputs": [],
   "source": [
    "images = [r['src'] for r in results]"
   ]
  },
  {
   "cell_type": "code",
   "execution_count": 28,
   "id": "5afb2a3b-b799-4311-865d-ac0f2bfc6c73",
   "metadata": {},
   "outputs": [],
   "source": [
    "book_info = list(zip(titles,authors,images))"
   ]
  },
  {
   "cell_type": "code",
   "execution_count": 47,
   "id": "ce2adc6e-4014-4be9-a6d6-66f830ce3553",
   "metadata": {},
   "outputs": [],
   "source": [
    "def get_book_info(page):\n",
    "    soup = BeautifulSoup(page, 'html.parser')\n",
    "    results = soup.select('article h3[itemprop=\"name\"]')\n",
    "    titles = [r.text for r in results]\n",
    "    \n",
    "    results = soup.select('article p[itemprop=\"author\"]')\n",
    "    authors = [r.text.replace('by','').lstrip() for r in results]\n",
    "    \n",
    "    results = soup.select('article img[itemprop=\"image\"]')\n",
    "    images = [r[\"src\"] for r in results]\n",
    "    \n",
    "    return list(zip(titles, authors, images))"
   ]
  },
  {
   "cell_type": "code",
   "execution_count": 53,
   "id": "5d30c1ea-15d6-4d33-b390-b21f59139b68",
   "metadata": {},
   "outputs": [
    {
     "data": {
      "text/plain": [
       "[('THE MATCH',\n",
       "  'Harlan Coben',\n",
       "  'https://storage.googleapis.com/du-prd/books/images/9781538748282.jpg'),\n",
       " ('RUN, ROSE, RUN',\n",
       "  'Dolly Parton and James Patterson',\n",
       "  'https://storage.googleapis.com/du-prd/books/images/9780759554344.jpg'),\n",
       " ('IT ENDS WITH US',\n",
       "  'Colleen Hoover',\n",
       "  'https://storage.googleapis.com/du-prd/books/images/9781501110375.jpg'),\n",
       " ('VERITY',\n",
       "  'Colleen Hoover',\n",
       "  'https://storage.googleapis.com/du-prd/books/images/9781791392796.jpg'),\n",
       " ('THE SEVEN HUSBANDS OF EVELYN HUGO',\n",
       "  'Taylor Jenkins Reid',\n",
       "  'https://storage.googleapis.com/du-prd/books/images/9781501161933.jpg'),\n",
       " ('SHADOWS REEL',\n",
       "  'C.J. Box',\n",
       "  'https://storage.googleapis.com/du-prd/books/images/9780593331262.jpg'),\n",
       " ('THE PARIS APARTMENT',\n",
       "  'Lucy Foley',\n",
       "  'https://storage.googleapis.com/du-prd/books/images/9780063003057.jpg'),\n",
       " ('THE MAID',\n",
       "  'Nita Prose',\n",
       "  'https://storage.googleapis.com/du-prd/books/images/9780593356159.jpg'),\n",
       " ('GIVE UNTO OTHERS',\n",
       "  'Donna Leon',\n",
       "  'https://storage.googleapis.com/du-prd/books/images/9780802159410.jpg'),\n",
       " ('THE KAIJU PRESERVATION SOCIETY',\n",
       "  'John Scalzi',\n",
       "  'https://storage.googleapis.com/du-prd/books/images/9780765389138.jpg'),\n",
       " ('NOVEMBER 9',\n",
       "  'Colleen Hoover',\n",
       "  'https://storage.googleapis.com/du-prd/books/images/9781501110351.jpg'),\n",
       " ('THE LIGHTNING ROD',\n",
       "  'Brad Meltzer',\n",
       "  'https://storage.googleapis.com/du-prd/books/images/9780062892409.jpg'),\n",
       " ('WHERE THE CRAWDADS SING',\n",
       "  'Delia Owens',\n",
       "  'https://storage.googleapis.com/du-prd/books/images/9780735219090.jpg'),\n",
       " ('THE LOVE HYPOTHESIS',\n",
       "  'Ali Hazelwood',\n",
       "  'https://storage.googleapis.com/du-prd/books/images/9780593336823.jpg'),\n",
       " ('ONE ITALIAN SUMMER',\n",
       "  'Rebecca Serle',\n",
       "  'https://storage.googleapis.com/du-prd/books/images/9781982166793.jpg'),\n",
       " ('RUN, ROSE, RUN',\n",
       "  'Dolly Parton and James Patterson',\n",
       "  'https://storage.googleapis.com/du-prd/books/images/9780759554344.jpg'),\n",
       " ('SHADOWS REEL',\n",
       "  'C.J. Box',\n",
       "  'https://storage.googleapis.com/du-prd/books/images/9780593331262.jpg'),\n",
       " ('IT ENDS WITH US',\n",
       "  'Colleen Hoover',\n",
       "  'https://storage.googleapis.com/du-prd/books/images/9781501110375.jpg'),\n",
       " ('HIGH STAKES',\n",
       "  'Danielle Steel',\n",
       "  'https://storage.googleapis.com/du-prd/books/images/9781984821713.jpg'),\n",
       " ('VERITY',\n",
       "  'Colleen Hoover',\n",
       "  'https://storage.googleapis.com/du-prd/books/images/9781791392796.jpg'),\n",
       " ('THE PARIS APARTMENT',\n",
       "  'Lucy Foley',\n",
       "  'https://storage.googleapis.com/du-prd/books/images/9780063003057.jpg'),\n",
       " ('THE SEVEN HUSBANDS OF EVELYN HUGO',\n",
       "  'Taylor Jenkins Reid',\n",
       "  'https://storage.googleapis.com/du-prd/books/images/9781501161933.jpg'),\n",
       " ('THE GOLDEN COUPLE',\n",
       "  'Greer Hendricks and Sarah Pekkanen',\n",
       "  'https://storage.googleapis.com/du-prd/books/images/9781250273208.jpg'),\n",
       " ('THE LIGHTNING ROD',\n",
       "  'Brad Meltzer',\n",
       "  'https://storage.googleapis.com/du-prd/books/images/9780062892409.jpg'),\n",
       " ('ONE ITALIAN SUMMER',\n",
       "  'Rebecca Serle',\n",
       "  'https://storage.googleapis.com/du-prd/books/images/9781982166793.jpg'),\n",
       " ('THE LOVE HYPOTHESIS',\n",
       "  'Ali Hazelwood',\n",
       "  'https://storage.googleapis.com/du-prd/books/images/9780593336823.jpg'),\n",
       " ('PEOPLE WE MEET ON VACATION',\n",
       "  'Emily Henry',\n",
       "  'https://storage.googleapis.com/du-prd/books/images/9781984806758.jpg'),\n",
       " ('THE MIDNIGHT LIBRARY',\n",
       "  'Matt Haig',\n",
       "  'https://storage.googleapis.com/du-prd/books/images/9780525559474.jpg'),\n",
       " ('THE LINCOLN HIGHWAY',\n",
       "  'Amor Towles',\n",
       "  'https://storage.googleapis.com/du-prd/books/images/9780735222359.jpg'),\n",
       " ('THE MAID',\n",
       "  'Nita Prose',\n",
       "  'https://storage.googleapis.com/du-prd/books/images/9780593356159.jpg'),\n",
       " ('HOOK, LINE, AND SINKER',\n",
       "  'Tessa Bailey',\n",
       "  'https://storage.googleapis.com/du-prd/books/images/9780063045699.jpg'),\n",
       " ('IT ENDS WITH US',\n",
       "  'Colleen Hoover',\n",
       "  'https://storage.googleapis.com/du-prd/books/images/9781501110375.jpg'),\n",
       " ('THE PARIS APARTMENT',\n",
       "  'Lucy Foley',\n",
       "  'https://storage.googleapis.com/du-prd/books/images/9780063003057.jpg'),\n",
       " ('VERITY',\n",
       "  'Colleen Hoover',\n",
       "  'https://storage.googleapis.com/du-prd/books/images/9781635574074.jpg'),\n",
       " ('THE PARIS APARTMENT',\n",
       "  'Lucy Foley',\n",
       "  'https://storage.googleapis.com/du-prd/books/images/9781501110375.jpg'),\n",
       " ('HOUSE OF SKY AND BREATH',\n",
       "  'Sarah J. Maas',\n",
       "  'https://storage.googleapis.com/du-prd/books/images/9781538736753.jpg'),\n",
       " ('IT ENDS WITH US',\n",
       "  'Colleen Hoover',\n",
       "  'https://storage.googleapis.com/du-prd/books/images/9780593098998.jpg'),\n",
       " ('DIABLO MESA',\n",
       "  'Douglas Preston and Lincoln Child',\n",
       "  'https://storage.googleapis.com/du-prd/books/images/9781791392796.jpg'),\n",
       " ('SIERRA SIX',\n",
       "  'Mark Greaney',\n",
       "  'https://storage.googleapis.com/du-prd/books/images/9781501161933.jpg'),\n",
       " ('VERITY',\n",
       "  'Colleen Hoover',\n",
       "  'https://storage.googleapis.com/du-prd/books/images/9781250278210.jpg'),\n",
       " ('THE SEVEN HUSBANDS OF EVELYN HUGO',\n",
       "  'Taylor Jenkins Reid',\n",
       "  'https://storage.googleapis.com/du-prd/books/images/9781635574043.jpg'),\n",
       " ('ABANDONED IN DEATH',\n",
       "  'J.D. Robb',\n",
       "  'https://storage.googleapis.com/du-prd/books/images/9780735222359.jpg'),\n",
       " ('HOUSE OF EARTH AND BLOOD',\n",
       "  'Sarah J. Maas',\n",
       "  'https://storage.googleapis.com/du-prd/books/images/9780593356159.jpg'),\n",
       " ('THE LINCOLN HIGHWAY',\n",
       "  'Amor Towles',\n",
       "  'https://storage.googleapis.com/du-prd/books/images/9781476753195.jpg'),\n",
       " ('THE MAID',\n",
       "  'Nita Prose',\n",
       "  'https://storage.googleapis.com/du-prd/books/images/9780593336823.jpg'),\n",
       " ('UGLY LOVE',\n",
       "  'Colleen Hoover',\n",
       "  'https://storage.googleapis.com/du-prd/books/images/9780525559474.jpg'),\n",
       " ('THE LOVE HYPOTHESIS',\n",
       "  'Ali Hazelwood',\n",
       "  'https://storage.googleapis.com/du-prd/books/images/9781250274618.jpg'),\n",
       " ('THE MIDNIGHT LIBRARY',\n",
       "  'Matt Haig',\n",
       "  'https://storage.googleapis.com/du-prd/books/images/9781501171345.jpg'),\n",
       " ('THE CHRISTIE AFFAIR',\n",
       "  'Nina de Gramont',\n",
       "  'https://storage.googleapis.com/du-prd/books/images/9781250278210.jpg'),\n",
       " ('THE LAST THING HE TOLD ME',\n",
       "  'Laura Dave',\n",
       "  'https://storage.googleapis.com/du-prd/books/images/9781501110375.jpg'),\n",
       " ('ABANDONED IN DEATH',\n",
       "  'J.D. Robb',\n",
       "  'https://storage.googleapis.com/du-prd/books/images/9780525618584.jpg'),\n",
       " ('IT ENDS WITH US',\n",
       "  'Colleen Hoover',\n",
       "  'https://storage.googleapis.com/du-prd/books/images/9781791392796.jpg'),\n",
       " ('CITY OF THE DEAD',\n",
       "  'Jonathan Kellerman',\n",
       "  'https://storage.googleapis.com/du-prd/books/images/9781501161933.jpg'),\n",
       " ('VERITY',\n",
       "  'Colleen Hoover',\n",
       "  'https://storage.googleapis.com/du-prd/books/images/9781476753195.jpg'),\n",
       " ('THE SEVEN HUSBANDS OF EVELYN HUGO',\n",
       "  'Taylor Jenkins Reid',\n",
       "  'https://storage.googleapis.com/du-prd/books/images/9780593336823.jpg'),\n",
       " ('UGLY LOVE',\n",
       "  'Colleen Hoover',\n",
       "  'https://storage.googleapis.com/du-prd/books/images/9781538703533.jpg'),\n",
       " ('THE LOVE HYPOTHESIS',\n",
       "  'Ali Hazelwood',\n",
       "  'https://storage.googleapis.com/du-prd/books/images/9780525559474.jpg'),\n",
       " ('STEAL',\n",
       "  'James Patterson and Howard Roughan',\n",
       "  'https://storage.googleapis.com/du-prd/books/images/9780593356159.jpg'),\n",
       " ('THE MIDNIGHT LIBRARY',\n",
       "  'Matt Haig',\n",
       "  'https://storage.googleapis.com/du-prd/books/images/9780735222359.jpg'),\n",
       " ('THE MAID',\n",
       "  'Nita Prose',\n",
       "  'https://storage.googleapis.com/du-prd/books/images/9781250252319.jpg'),\n",
       " ('THE LINCOLN HIGHWAY',\n",
       "  'Amor Towles',\n",
       "  'https://storage.googleapis.com/du-prd/books/images/9781668002520.jpg'),\n",
       " ('DARK HORSE',\n",
       "  'Gregg Hurwitz',\n",
       "  'https://storage.googleapis.com/du-prd/books/images/9781501171345.jpg'),\n",
       " ('THE SPANISH LOVE DECEPTION',\n",
       "  'Elena Armas',\n",
       "  'https://storage.googleapis.com/du-prd/books/images/9781984806758.jpg')]"
      ]
     },
     "execution_count": 53,
     "metadata": {},
     "output_type": "execute_result"
    }
   ],
   "source": [
    "with open(\"all_articles.html\",\"r\") as f:\n",
    "    page = f.read()\n",
    "get_book_info(page)"
   ]
  },
  {
   "cell_type": "code",
   "execution_count": 32,
   "id": "d34b46a5-9ac0-4fdf-8415-3a484bfb32ed",
   "metadata": {},
   "outputs": [],
   "source": [
    "from IPython.display import Image, display"
   ]
  },
  {
   "cell_type": "code",
   "execution_count": 55,
   "id": "4f027129-f420-4061-85ab-22ac36567f03",
   "metadata": {},
   "outputs": [],
   "source": [
    "book_info = get_book_info(page)"
   ]
  },
  {
   "cell_type": "code",
   "execution_count": 56,
   "id": "7812e1b4-0f5e-4e95-999f-38e693829f26",
   "metadata": {},
   "outputs": [
    {
     "name": "stdout",
     "output_type": "stream",
     "text": [
      "1 THE MATCH\n",
      "Harlan Coben\n"
     ]
    },
    {
     "data": {
      "text/html": [
       "<img src=\"https://storage.googleapis.com/du-prd/books/images/9781538748282.jpg\" width=\"50\"/>"
      ],
      "text/plain": [
       "<IPython.core.display.Image object>"
      ]
     },
     "metadata": {},
     "output_type": "display_data"
    },
    {
     "name": "stdout",
     "output_type": "stream",
     "text": [
      "2 RUN, ROSE, RUN\n",
      "Dolly Parton and James Patterson\n"
     ]
    },
    {
     "data": {
      "text/html": [
       "<img src=\"https://storage.googleapis.com/du-prd/books/images/9780759554344.jpg\" width=\"50\"/>"
      ],
      "text/plain": [
       "<IPython.core.display.Image object>"
      ]
     },
     "metadata": {},
     "output_type": "display_data"
    },
    {
     "name": "stdout",
     "output_type": "stream",
     "text": [
      "3 IT ENDS WITH US\n",
      "Colleen Hoover\n"
     ]
    },
    {
     "data": {
      "text/html": [
       "<img src=\"https://storage.googleapis.com/du-prd/books/images/9781501110375.jpg\" width=\"50\"/>"
      ],
      "text/plain": [
       "<IPython.core.display.Image object>"
      ]
     },
     "metadata": {},
     "output_type": "display_data"
    },
    {
     "name": "stdout",
     "output_type": "stream",
     "text": [
      "4 VERITY\n",
      "Colleen Hoover\n"
     ]
    },
    {
     "data": {
      "text/html": [
       "<img src=\"https://storage.googleapis.com/du-prd/books/images/9781791392796.jpg\" width=\"50\"/>"
      ],
      "text/plain": [
       "<IPython.core.display.Image object>"
      ]
     },
     "metadata": {},
     "output_type": "display_data"
    },
    {
     "name": "stdout",
     "output_type": "stream",
     "text": [
      "5 THE SEVEN HUSBANDS OF EVELYN HUGO\n",
      "Taylor Jenkins Reid\n"
     ]
    },
    {
     "data": {
      "text/html": [
       "<img src=\"https://storage.googleapis.com/du-prd/books/images/9781501161933.jpg\" width=\"50\"/>"
      ],
      "text/plain": [
       "<IPython.core.display.Image object>"
      ]
     },
     "metadata": {},
     "output_type": "display_data"
    },
    {
     "name": "stdout",
     "output_type": "stream",
     "text": [
      "6 SHADOWS REEL\n",
      "C.J. Box\n"
     ]
    },
    {
     "data": {
      "text/html": [
       "<img src=\"https://storage.googleapis.com/du-prd/books/images/9780593331262.jpg\" width=\"50\"/>"
      ],
      "text/plain": [
       "<IPython.core.display.Image object>"
      ]
     },
     "metadata": {},
     "output_type": "display_data"
    },
    {
     "name": "stdout",
     "output_type": "stream",
     "text": [
      "7 THE PARIS APARTMENT\n",
      "Lucy Foley\n"
     ]
    },
    {
     "data": {
      "text/html": [
       "<img src=\"https://storage.googleapis.com/du-prd/books/images/9780063003057.jpg\" width=\"50\"/>"
      ],
      "text/plain": [
       "<IPython.core.display.Image object>"
      ]
     },
     "metadata": {},
     "output_type": "display_data"
    },
    {
     "name": "stdout",
     "output_type": "stream",
     "text": [
      "8 THE MAID\n",
      "Nita Prose\n"
     ]
    },
    {
     "data": {
      "text/html": [
       "<img src=\"https://storage.googleapis.com/du-prd/books/images/9780593356159.jpg\" width=\"50\"/>"
      ],
      "text/plain": [
       "<IPython.core.display.Image object>"
      ]
     },
     "metadata": {},
     "output_type": "display_data"
    },
    {
     "name": "stdout",
     "output_type": "stream",
     "text": [
      "9 GIVE UNTO OTHERS\n",
      "Donna Leon\n"
     ]
    },
    {
     "data": {
      "text/html": [
       "<img src=\"https://storage.googleapis.com/du-prd/books/images/9780802159410.jpg\" width=\"50\"/>"
      ],
      "text/plain": [
       "<IPython.core.display.Image object>"
      ]
     },
     "metadata": {},
     "output_type": "display_data"
    },
    {
     "name": "stdout",
     "output_type": "stream",
     "text": [
      "10 THE KAIJU PRESERVATION SOCIETY\n",
      "John Scalzi\n"
     ]
    },
    {
     "data": {
      "text/html": [
       "<img src=\"https://storage.googleapis.com/du-prd/books/images/9780765389138.jpg\" width=\"50\"/>"
      ],
      "text/plain": [
       "<IPython.core.display.Image object>"
      ]
     },
     "metadata": {},
     "output_type": "display_data"
    },
    {
     "name": "stdout",
     "output_type": "stream",
     "text": [
      "11 NOVEMBER 9\n",
      "Colleen Hoover\n"
     ]
    },
    {
     "data": {
      "text/html": [
       "<img src=\"https://storage.googleapis.com/du-prd/books/images/9781501110351.jpg\" width=\"50\"/>"
      ],
      "text/plain": [
       "<IPython.core.display.Image object>"
      ]
     },
     "metadata": {},
     "output_type": "display_data"
    },
    {
     "name": "stdout",
     "output_type": "stream",
     "text": [
      "12 THE LIGHTNING ROD\n",
      "Brad Meltzer\n"
     ]
    },
    {
     "data": {
      "text/html": [
       "<img src=\"https://storage.googleapis.com/du-prd/books/images/9780062892409.jpg\" width=\"50\"/>"
      ],
      "text/plain": [
       "<IPython.core.display.Image object>"
      ]
     },
     "metadata": {},
     "output_type": "display_data"
    },
    {
     "name": "stdout",
     "output_type": "stream",
     "text": [
      "13 WHERE THE CRAWDADS SING\n",
      "Delia Owens\n"
     ]
    },
    {
     "data": {
      "text/html": [
       "<img src=\"https://storage.googleapis.com/du-prd/books/images/9780735219090.jpg\" width=\"50\"/>"
      ],
      "text/plain": [
       "<IPython.core.display.Image object>"
      ]
     },
     "metadata": {},
     "output_type": "display_data"
    },
    {
     "name": "stdout",
     "output_type": "stream",
     "text": [
      "14 THE LOVE HYPOTHESIS\n",
      "Ali Hazelwood\n"
     ]
    },
    {
     "data": {
      "text/html": [
       "<img src=\"https://storage.googleapis.com/du-prd/books/images/9780593336823.jpg\" width=\"50\"/>"
      ],
      "text/plain": [
       "<IPython.core.display.Image object>"
      ]
     },
     "metadata": {},
     "output_type": "display_data"
    },
    {
     "name": "stdout",
     "output_type": "stream",
     "text": [
      "15 ONE ITALIAN SUMMER\n",
      "Rebecca Serle\n"
     ]
    },
    {
     "data": {
      "text/html": [
       "<img src=\"https://storage.googleapis.com/du-prd/books/images/9781982166793.jpg\" width=\"50\"/>"
      ],
      "text/plain": [
       "<IPython.core.display.Image object>"
      ]
     },
     "metadata": {},
     "output_type": "display_data"
    },
    {
     "name": "stdout",
     "output_type": "stream",
     "text": [
      "16 RUN, ROSE, RUN\n",
      "Dolly Parton and James Patterson\n"
     ]
    },
    {
     "data": {
      "text/html": [
       "<img src=\"https://storage.googleapis.com/du-prd/books/images/9780759554344.jpg\" width=\"50\"/>"
      ],
      "text/plain": [
       "<IPython.core.display.Image object>"
      ]
     },
     "metadata": {},
     "output_type": "display_data"
    },
    {
     "name": "stdout",
     "output_type": "stream",
     "text": [
      "17 SHADOWS REEL\n",
      "C.J. Box\n"
     ]
    },
    {
     "data": {
      "text/html": [
       "<img src=\"https://storage.googleapis.com/du-prd/books/images/9780593331262.jpg\" width=\"50\"/>"
      ],
      "text/plain": [
       "<IPython.core.display.Image object>"
      ]
     },
     "metadata": {},
     "output_type": "display_data"
    },
    {
     "name": "stdout",
     "output_type": "stream",
     "text": [
      "18 IT ENDS WITH US\n",
      "Colleen Hoover\n"
     ]
    },
    {
     "data": {
      "text/html": [
       "<img src=\"https://storage.googleapis.com/du-prd/books/images/9781501110375.jpg\" width=\"50\"/>"
      ],
      "text/plain": [
       "<IPython.core.display.Image object>"
      ]
     },
     "metadata": {},
     "output_type": "display_data"
    },
    {
     "name": "stdout",
     "output_type": "stream",
     "text": [
      "19 HIGH STAKES\n",
      "Danielle Steel\n"
     ]
    },
    {
     "data": {
      "text/html": [
       "<img src=\"https://storage.googleapis.com/du-prd/books/images/9781984821713.jpg\" width=\"50\"/>"
      ],
      "text/plain": [
       "<IPython.core.display.Image object>"
      ]
     },
     "metadata": {},
     "output_type": "display_data"
    },
    {
     "name": "stdout",
     "output_type": "stream",
     "text": [
      "20 VERITY\n",
      "Colleen Hoover\n"
     ]
    },
    {
     "data": {
      "text/html": [
       "<img src=\"https://storage.googleapis.com/du-prd/books/images/9781791392796.jpg\" width=\"50\"/>"
      ],
      "text/plain": [
       "<IPython.core.display.Image object>"
      ]
     },
     "metadata": {},
     "output_type": "display_data"
    },
    {
     "name": "stdout",
     "output_type": "stream",
     "text": [
      "21 THE PARIS APARTMENT\n",
      "Lucy Foley\n"
     ]
    },
    {
     "data": {
      "text/html": [
       "<img src=\"https://storage.googleapis.com/du-prd/books/images/9780063003057.jpg\" width=\"50\"/>"
      ],
      "text/plain": [
       "<IPython.core.display.Image object>"
      ]
     },
     "metadata": {},
     "output_type": "display_data"
    },
    {
     "name": "stdout",
     "output_type": "stream",
     "text": [
      "22 THE SEVEN HUSBANDS OF EVELYN HUGO\n",
      "Taylor Jenkins Reid\n"
     ]
    },
    {
     "data": {
      "text/html": [
       "<img src=\"https://storage.googleapis.com/du-prd/books/images/9781501161933.jpg\" width=\"50\"/>"
      ],
      "text/plain": [
       "<IPython.core.display.Image object>"
      ]
     },
     "metadata": {},
     "output_type": "display_data"
    },
    {
     "name": "stdout",
     "output_type": "stream",
     "text": [
      "23 THE GOLDEN COUPLE\n",
      "Greer Hendricks and Sarah Pekkanen\n"
     ]
    },
    {
     "data": {
      "text/html": [
       "<img src=\"https://storage.googleapis.com/du-prd/books/images/9781250273208.jpg\" width=\"50\"/>"
      ],
      "text/plain": [
       "<IPython.core.display.Image object>"
      ]
     },
     "metadata": {},
     "output_type": "display_data"
    },
    {
     "name": "stdout",
     "output_type": "stream",
     "text": [
      "24 THE LIGHTNING ROD\n",
      "Brad Meltzer\n"
     ]
    },
    {
     "data": {
      "text/html": [
       "<img src=\"https://storage.googleapis.com/du-prd/books/images/9780062892409.jpg\" width=\"50\"/>"
      ],
      "text/plain": [
       "<IPython.core.display.Image object>"
      ]
     },
     "metadata": {},
     "output_type": "display_data"
    },
    {
     "name": "stdout",
     "output_type": "stream",
     "text": [
      "25 ONE ITALIAN SUMMER\n",
      "Rebecca Serle\n"
     ]
    },
    {
     "data": {
      "text/html": [
       "<img src=\"https://storage.googleapis.com/du-prd/books/images/9781982166793.jpg\" width=\"50\"/>"
      ],
      "text/plain": [
       "<IPython.core.display.Image object>"
      ]
     },
     "metadata": {},
     "output_type": "display_data"
    },
    {
     "name": "stdout",
     "output_type": "stream",
     "text": [
      "26 THE LOVE HYPOTHESIS\n",
      "Ali Hazelwood\n"
     ]
    },
    {
     "data": {
      "text/html": [
       "<img src=\"https://storage.googleapis.com/du-prd/books/images/9780593336823.jpg\" width=\"50\"/>"
      ],
      "text/plain": [
       "<IPython.core.display.Image object>"
      ]
     },
     "metadata": {},
     "output_type": "display_data"
    },
    {
     "name": "stdout",
     "output_type": "stream",
     "text": [
      "27 PEOPLE WE MEET ON VACATION\n",
      "Emily Henry\n"
     ]
    },
    {
     "data": {
      "text/html": [
       "<img src=\"https://storage.googleapis.com/du-prd/books/images/9781984806758.jpg\" width=\"50\"/>"
      ],
      "text/plain": [
       "<IPython.core.display.Image object>"
      ]
     },
     "metadata": {},
     "output_type": "display_data"
    },
    {
     "name": "stdout",
     "output_type": "stream",
     "text": [
      "28 THE MIDNIGHT LIBRARY\n",
      "Matt Haig\n"
     ]
    },
    {
     "data": {
      "text/html": [
       "<img src=\"https://storage.googleapis.com/du-prd/books/images/9780525559474.jpg\" width=\"50\"/>"
      ],
      "text/plain": [
       "<IPython.core.display.Image object>"
      ]
     },
     "metadata": {},
     "output_type": "display_data"
    },
    {
     "name": "stdout",
     "output_type": "stream",
     "text": [
      "29 THE LINCOLN HIGHWAY\n",
      "Amor Towles\n"
     ]
    },
    {
     "data": {
      "text/html": [
       "<img src=\"https://storage.googleapis.com/du-prd/books/images/9780735222359.jpg\" width=\"50\"/>"
      ],
      "text/plain": [
       "<IPython.core.display.Image object>"
      ]
     },
     "metadata": {},
     "output_type": "display_data"
    },
    {
     "name": "stdout",
     "output_type": "stream",
     "text": [
      "30 THE MAID\n",
      "Nita Prose\n"
     ]
    },
    {
     "data": {
      "text/html": [
       "<img src=\"https://storage.googleapis.com/du-prd/books/images/9780593356159.jpg\" width=\"50\"/>"
      ],
      "text/plain": [
       "<IPython.core.display.Image object>"
      ]
     },
     "metadata": {},
     "output_type": "display_data"
    },
    {
     "name": "stdout",
     "output_type": "stream",
     "text": [
      "31 HOOK, LINE, AND SINKER\n",
      "Tessa Bailey\n"
     ]
    },
    {
     "data": {
      "text/html": [
       "<img src=\"https://storage.googleapis.com/du-prd/books/images/9780063045699.jpg\" width=\"50\"/>"
      ],
      "text/plain": [
       "<IPython.core.display.Image object>"
      ]
     },
     "metadata": {},
     "output_type": "display_data"
    },
    {
     "name": "stdout",
     "output_type": "stream",
     "text": [
      "32 IT ENDS WITH US\n",
      "Colleen Hoover\n"
     ]
    },
    {
     "data": {
      "text/html": [
       "<img src=\"https://storage.googleapis.com/du-prd/books/images/9781501110375.jpg\" width=\"50\"/>"
      ],
      "text/plain": [
       "<IPython.core.display.Image object>"
      ]
     },
     "metadata": {},
     "output_type": "display_data"
    },
    {
     "name": "stdout",
     "output_type": "stream",
     "text": [
      "33 THE PARIS APARTMENT\n",
      "Lucy Foley\n"
     ]
    },
    {
     "data": {
      "text/html": [
       "<img src=\"https://storage.googleapis.com/du-prd/books/images/9780063003057.jpg\" width=\"50\"/>"
      ],
      "text/plain": [
       "<IPython.core.display.Image object>"
      ]
     },
     "metadata": {},
     "output_type": "display_data"
    },
    {
     "name": "stdout",
     "output_type": "stream",
     "text": [
      "34 VERITY\n",
      "Colleen Hoover\n"
     ]
    },
    {
     "data": {
      "text/html": [
       "<img src=\"https://storage.googleapis.com/du-prd/books/images/9781635574074.jpg\" width=\"50\"/>"
      ],
      "text/plain": [
       "<IPython.core.display.Image object>"
      ]
     },
     "metadata": {},
     "output_type": "display_data"
    },
    {
     "name": "stdout",
     "output_type": "stream",
     "text": [
      "35 THE PARIS APARTMENT\n",
      "Lucy Foley\n"
     ]
    },
    {
     "data": {
      "text/html": [
       "<img src=\"https://storage.googleapis.com/du-prd/books/images/9781501110375.jpg\" width=\"50\"/>"
      ],
      "text/plain": [
       "<IPython.core.display.Image object>"
      ]
     },
     "metadata": {},
     "output_type": "display_data"
    },
    {
     "name": "stdout",
     "output_type": "stream",
     "text": [
      "36 HOUSE OF SKY AND BREATH\n",
      "Sarah J. Maas\n"
     ]
    },
    {
     "data": {
      "text/html": [
       "<img src=\"https://storage.googleapis.com/du-prd/books/images/9781538736753.jpg\" width=\"50\"/>"
      ],
      "text/plain": [
       "<IPython.core.display.Image object>"
      ]
     },
     "metadata": {},
     "output_type": "display_data"
    },
    {
     "name": "stdout",
     "output_type": "stream",
     "text": [
      "37 IT ENDS WITH US\n",
      "Colleen Hoover\n"
     ]
    },
    {
     "data": {
      "text/html": [
       "<img src=\"https://storage.googleapis.com/du-prd/books/images/9780593098998.jpg\" width=\"50\"/>"
      ],
      "text/plain": [
       "<IPython.core.display.Image object>"
      ]
     },
     "metadata": {},
     "output_type": "display_data"
    },
    {
     "name": "stdout",
     "output_type": "stream",
     "text": [
      "38 DIABLO MESA\n",
      "Douglas Preston and Lincoln Child\n"
     ]
    },
    {
     "data": {
      "text/html": [
       "<img src=\"https://storage.googleapis.com/du-prd/books/images/9781791392796.jpg\" width=\"50\"/>"
      ],
      "text/plain": [
       "<IPython.core.display.Image object>"
      ]
     },
     "metadata": {},
     "output_type": "display_data"
    },
    {
     "name": "stdout",
     "output_type": "stream",
     "text": [
      "39 SIERRA SIX\n",
      "Mark Greaney\n"
     ]
    },
    {
     "data": {
      "text/html": [
       "<img src=\"https://storage.googleapis.com/du-prd/books/images/9781501161933.jpg\" width=\"50\"/>"
      ],
      "text/plain": [
       "<IPython.core.display.Image object>"
      ]
     },
     "metadata": {},
     "output_type": "display_data"
    },
    {
     "name": "stdout",
     "output_type": "stream",
     "text": [
      "40 VERITY\n",
      "Colleen Hoover\n"
     ]
    },
    {
     "data": {
      "text/html": [
       "<img src=\"https://storage.googleapis.com/du-prd/books/images/9781250278210.jpg\" width=\"50\"/>"
      ],
      "text/plain": [
       "<IPython.core.display.Image object>"
      ]
     },
     "metadata": {},
     "output_type": "display_data"
    },
    {
     "name": "stdout",
     "output_type": "stream",
     "text": [
      "41 THE SEVEN HUSBANDS OF EVELYN HUGO\n",
      "Taylor Jenkins Reid\n"
     ]
    },
    {
     "data": {
      "text/html": [
       "<img src=\"https://storage.googleapis.com/du-prd/books/images/9781635574043.jpg\" width=\"50\"/>"
      ],
      "text/plain": [
       "<IPython.core.display.Image object>"
      ]
     },
     "metadata": {},
     "output_type": "display_data"
    },
    {
     "name": "stdout",
     "output_type": "stream",
     "text": [
      "42 ABANDONED IN DEATH\n",
      "J.D. Robb\n"
     ]
    },
    {
     "data": {
      "text/html": [
       "<img src=\"https://storage.googleapis.com/du-prd/books/images/9780735222359.jpg\" width=\"50\"/>"
      ],
      "text/plain": [
       "<IPython.core.display.Image object>"
      ]
     },
     "metadata": {},
     "output_type": "display_data"
    },
    {
     "name": "stdout",
     "output_type": "stream",
     "text": [
      "43 HOUSE OF EARTH AND BLOOD\n",
      "Sarah J. Maas\n"
     ]
    },
    {
     "data": {
      "text/html": [
       "<img src=\"https://storage.googleapis.com/du-prd/books/images/9780593356159.jpg\" width=\"50\"/>"
      ],
      "text/plain": [
       "<IPython.core.display.Image object>"
      ]
     },
     "metadata": {},
     "output_type": "display_data"
    },
    {
     "name": "stdout",
     "output_type": "stream",
     "text": [
      "44 THE LINCOLN HIGHWAY\n",
      "Amor Towles\n"
     ]
    },
    {
     "data": {
      "text/html": [
       "<img src=\"https://storage.googleapis.com/du-prd/books/images/9781476753195.jpg\" width=\"50\"/>"
      ],
      "text/plain": [
       "<IPython.core.display.Image object>"
      ]
     },
     "metadata": {},
     "output_type": "display_data"
    },
    {
     "name": "stdout",
     "output_type": "stream",
     "text": [
      "45 THE MAID\n",
      "Nita Prose\n"
     ]
    },
    {
     "data": {
      "text/html": [
       "<img src=\"https://storage.googleapis.com/du-prd/books/images/9780593336823.jpg\" width=\"50\"/>"
      ],
      "text/plain": [
       "<IPython.core.display.Image object>"
      ]
     },
     "metadata": {},
     "output_type": "display_data"
    },
    {
     "name": "stdout",
     "output_type": "stream",
     "text": [
      "46 UGLY LOVE\n",
      "Colleen Hoover\n"
     ]
    },
    {
     "data": {
      "text/html": [
       "<img src=\"https://storage.googleapis.com/du-prd/books/images/9780525559474.jpg\" width=\"50\"/>"
      ],
      "text/plain": [
       "<IPython.core.display.Image object>"
      ]
     },
     "metadata": {},
     "output_type": "display_data"
    },
    {
     "name": "stdout",
     "output_type": "stream",
     "text": [
      "47 THE LOVE HYPOTHESIS\n",
      "Ali Hazelwood\n"
     ]
    },
    {
     "data": {
      "text/html": [
       "<img src=\"https://storage.googleapis.com/du-prd/books/images/9781250274618.jpg\" width=\"50\"/>"
      ],
      "text/plain": [
       "<IPython.core.display.Image object>"
      ]
     },
     "metadata": {},
     "output_type": "display_data"
    },
    {
     "name": "stdout",
     "output_type": "stream",
     "text": [
      "48 THE MIDNIGHT LIBRARY\n",
      "Matt Haig\n"
     ]
    },
    {
     "data": {
      "text/html": [
       "<img src=\"https://storage.googleapis.com/du-prd/books/images/9781501171345.jpg\" width=\"50\"/>"
      ],
      "text/plain": [
       "<IPython.core.display.Image object>"
      ]
     },
     "metadata": {},
     "output_type": "display_data"
    },
    {
     "name": "stdout",
     "output_type": "stream",
     "text": [
      "49 THE CHRISTIE AFFAIR\n",
      "Nina de Gramont\n"
     ]
    },
    {
     "data": {
      "text/html": [
       "<img src=\"https://storage.googleapis.com/du-prd/books/images/9781250278210.jpg\" width=\"50\"/>"
      ],
      "text/plain": [
       "<IPython.core.display.Image object>"
      ]
     },
     "metadata": {},
     "output_type": "display_data"
    },
    {
     "name": "stdout",
     "output_type": "stream",
     "text": [
      "50 THE LAST THING HE TOLD ME\n",
      "Laura Dave\n"
     ]
    },
    {
     "data": {
      "text/html": [
       "<img src=\"https://storage.googleapis.com/du-prd/books/images/9781501110375.jpg\" width=\"50\"/>"
      ],
      "text/plain": [
       "<IPython.core.display.Image object>"
      ]
     },
     "metadata": {},
     "output_type": "display_data"
    },
    {
     "name": "stdout",
     "output_type": "stream",
     "text": [
      "51 ABANDONED IN DEATH\n",
      "J.D. Robb\n"
     ]
    },
    {
     "data": {
      "text/html": [
       "<img src=\"https://storage.googleapis.com/du-prd/books/images/9780525618584.jpg\" width=\"50\"/>"
      ],
      "text/plain": [
       "<IPython.core.display.Image object>"
      ]
     },
     "metadata": {},
     "output_type": "display_data"
    },
    {
     "name": "stdout",
     "output_type": "stream",
     "text": [
      "52 IT ENDS WITH US\n",
      "Colleen Hoover\n"
     ]
    },
    {
     "data": {
      "text/html": [
       "<img src=\"https://storage.googleapis.com/du-prd/books/images/9781791392796.jpg\" width=\"50\"/>"
      ],
      "text/plain": [
       "<IPython.core.display.Image object>"
      ]
     },
     "metadata": {},
     "output_type": "display_data"
    },
    {
     "name": "stdout",
     "output_type": "stream",
     "text": [
      "53 CITY OF THE DEAD\n",
      "Jonathan Kellerman\n"
     ]
    },
    {
     "data": {
      "text/html": [
       "<img src=\"https://storage.googleapis.com/du-prd/books/images/9781501161933.jpg\" width=\"50\"/>"
      ],
      "text/plain": [
       "<IPython.core.display.Image object>"
      ]
     },
     "metadata": {},
     "output_type": "display_data"
    },
    {
     "name": "stdout",
     "output_type": "stream",
     "text": [
      "54 VERITY\n",
      "Colleen Hoover\n"
     ]
    },
    {
     "data": {
      "text/html": [
       "<img src=\"https://storage.googleapis.com/du-prd/books/images/9781476753195.jpg\" width=\"50\"/>"
      ],
      "text/plain": [
       "<IPython.core.display.Image object>"
      ]
     },
     "metadata": {},
     "output_type": "display_data"
    },
    {
     "name": "stdout",
     "output_type": "stream",
     "text": [
      "55 THE SEVEN HUSBANDS OF EVELYN HUGO\n",
      "Taylor Jenkins Reid\n"
     ]
    },
    {
     "data": {
      "text/html": [
       "<img src=\"https://storage.googleapis.com/du-prd/books/images/9780593336823.jpg\" width=\"50\"/>"
      ],
      "text/plain": [
       "<IPython.core.display.Image object>"
      ]
     },
     "metadata": {},
     "output_type": "display_data"
    },
    {
     "name": "stdout",
     "output_type": "stream",
     "text": [
      "56 UGLY LOVE\n",
      "Colleen Hoover\n"
     ]
    },
    {
     "data": {
      "text/html": [
       "<img src=\"https://storage.googleapis.com/du-prd/books/images/9781538703533.jpg\" width=\"50\"/>"
      ],
      "text/plain": [
       "<IPython.core.display.Image object>"
      ]
     },
     "metadata": {},
     "output_type": "display_data"
    },
    {
     "name": "stdout",
     "output_type": "stream",
     "text": [
      "57 THE LOVE HYPOTHESIS\n",
      "Ali Hazelwood\n"
     ]
    },
    {
     "data": {
      "text/html": [
       "<img src=\"https://storage.googleapis.com/du-prd/books/images/9780525559474.jpg\" width=\"50\"/>"
      ],
      "text/plain": [
       "<IPython.core.display.Image object>"
      ]
     },
     "metadata": {},
     "output_type": "display_data"
    },
    {
     "name": "stdout",
     "output_type": "stream",
     "text": [
      "58 STEAL\n",
      "James Patterson and Howard Roughan\n"
     ]
    },
    {
     "data": {
      "text/html": [
       "<img src=\"https://storage.googleapis.com/du-prd/books/images/9780593356159.jpg\" width=\"50\"/>"
      ],
      "text/plain": [
       "<IPython.core.display.Image object>"
      ]
     },
     "metadata": {},
     "output_type": "display_data"
    },
    {
     "name": "stdout",
     "output_type": "stream",
     "text": [
      "59 THE MIDNIGHT LIBRARY\n",
      "Matt Haig\n"
     ]
    },
    {
     "data": {
      "text/html": [
       "<img src=\"https://storage.googleapis.com/du-prd/books/images/9780735222359.jpg\" width=\"50\"/>"
      ],
      "text/plain": [
       "<IPython.core.display.Image object>"
      ]
     },
     "metadata": {},
     "output_type": "display_data"
    },
    {
     "name": "stdout",
     "output_type": "stream",
     "text": [
      "60 THE MAID\n",
      "Nita Prose\n"
     ]
    },
    {
     "data": {
      "text/html": [
       "<img src=\"https://storage.googleapis.com/du-prd/books/images/9781250252319.jpg\" width=\"50\"/>"
      ],
      "text/plain": [
       "<IPython.core.display.Image object>"
      ]
     },
     "metadata": {},
     "output_type": "display_data"
    },
    {
     "name": "stdout",
     "output_type": "stream",
     "text": [
      "61 THE LINCOLN HIGHWAY\n",
      "Amor Towles\n"
     ]
    },
    {
     "data": {
      "text/html": [
       "<img src=\"https://storage.googleapis.com/du-prd/books/images/9781668002520.jpg\" width=\"50\"/>"
      ],
      "text/plain": [
       "<IPython.core.display.Image object>"
      ]
     },
     "metadata": {},
     "output_type": "display_data"
    },
    {
     "name": "stdout",
     "output_type": "stream",
     "text": [
      "62 DARK HORSE\n",
      "Gregg Hurwitz\n"
     ]
    },
    {
     "data": {
      "text/html": [
       "<img src=\"https://storage.googleapis.com/du-prd/books/images/9781501171345.jpg\" width=\"50\"/>"
      ],
      "text/plain": [
       "<IPython.core.display.Image object>"
      ]
     },
     "metadata": {},
     "output_type": "display_data"
    },
    {
     "name": "stdout",
     "output_type": "stream",
     "text": [
      "63 THE SPANISH LOVE DECEPTION\n",
      "Elena Armas\n"
     ]
    },
    {
     "data": {
      "text/html": [
       "<img src=\"https://storage.googleapis.com/du-prd/books/images/9781984806758.jpg\" width=\"50\"/>"
      ],
      "text/plain": [
       "<IPython.core.display.Image object>"
      ]
     },
     "metadata": {},
     "output_type": "display_data"
    }
   ],
   "source": [
    "for i,book in enumerate(book_info):\n",
    "    print(i+1,book[0])\n",
    "    print(book[1])\n",
    "    display(Image(url=book[2],width=50))"
   ]
  },
  {
   "cell_type": "code",
   "execution_count": 57,
   "id": "b335f2a3-44fd-4006-8e81-81b24e50c55f",
   "metadata": {},
   "outputs": [],
   "source": [
    "import pandas as pd\n"
   ]
  },
  {
   "cell_type": "code",
   "execution_count": 58,
   "id": "6864304d-648a-468e-81b4-0bf76a554fb8",
   "metadata": {},
   "outputs": [],
   "source": [
    "book_df = pd.DataFrame(book_info,columns=['title','author','coverlink'])"
   ]
  },
  {
   "cell_type": "code",
   "execution_count": 59,
   "id": "a932fce3-088f-4231-88fe-65a51ca552a5",
   "metadata": {},
   "outputs": [
    {
     "data": {
      "text/html": [
       "<div>\n",
       "<style scoped>\n",
       "    .dataframe tbody tr th:only-of-type {\n",
       "        vertical-align: middle;\n",
       "    }\n",
       "\n",
       "    .dataframe tbody tr th {\n",
       "        vertical-align: top;\n",
       "    }\n",
       "\n",
       "    .dataframe thead th {\n",
       "        text-align: right;\n",
       "    }\n",
       "</style>\n",
       "<table border=\"1\" class=\"dataframe\">\n",
       "  <thead>\n",
       "    <tr style=\"text-align: right;\">\n",
       "      <th></th>\n",
       "      <th>title</th>\n",
       "      <th>author</th>\n",
       "      <th>coverlink</th>\n",
       "    </tr>\n",
       "  </thead>\n",
       "  <tbody>\n",
       "    <tr>\n",
       "      <th>0</th>\n",
       "      <td>THE MATCH</td>\n",
       "      <td>Harlan Coben</td>\n",
       "      <td>https://storage.googleapis.com/du-prd/books/im...</td>\n",
       "    </tr>\n",
       "    <tr>\n",
       "      <th>1</th>\n",
       "      <td>RUN, ROSE, RUN</td>\n",
       "      <td>Dolly Parton and James Patterson</td>\n",
       "      <td>https://storage.googleapis.com/du-prd/books/im...</td>\n",
       "    </tr>\n",
       "    <tr>\n",
       "      <th>2</th>\n",
       "      <td>IT ENDS WITH US</td>\n",
       "      <td>Colleen Hoover</td>\n",
       "      <td>https://storage.googleapis.com/du-prd/books/im...</td>\n",
       "    </tr>\n",
       "    <tr>\n",
       "      <th>3</th>\n",
       "      <td>VERITY</td>\n",
       "      <td>Colleen Hoover</td>\n",
       "      <td>https://storage.googleapis.com/du-prd/books/im...</td>\n",
       "    </tr>\n",
       "    <tr>\n",
       "      <th>4</th>\n",
       "      <td>THE SEVEN HUSBANDS OF EVELYN HUGO</td>\n",
       "      <td>Taylor Jenkins Reid</td>\n",
       "      <td>https://storage.googleapis.com/du-prd/books/im...</td>\n",
       "    </tr>\n",
       "    <tr>\n",
       "      <th>...</th>\n",
       "      <td>...</td>\n",
       "      <td>...</td>\n",
       "      <td>...</td>\n",
       "    </tr>\n",
       "    <tr>\n",
       "      <th>58</th>\n",
       "      <td>THE MIDNIGHT LIBRARY</td>\n",
       "      <td>Matt Haig</td>\n",
       "      <td>https://storage.googleapis.com/du-prd/books/im...</td>\n",
       "    </tr>\n",
       "    <tr>\n",
       "      <th>59</th>\n",
       "      <td>THE MAID</td>\n",
       "      <td>Nita Prose</td>\n",
       "      <td>https://storage.googleapis.com/du-prd/books/im...</td>\n",
       "    </tr>\n",
       "    <tr>\n",
       "      <th>60</th>\n",
       "      <td>THE LINCOLN HIGHWAY</td>\n",
       "      <td>Amor Towles</td>\n",
       "      <td>https://storage.googleapis.com/du-prd/books/im...</td>\n",
       "    </tr>\n",
       "    <tr>\n",
       "      <th>61</th>\n",
       "      <td>DARK HORSE</td>\n",
       "      <td>Gregg Hurwitz</td>\n",
       "      <td>https://storage.googleapis.com/du-prd/books/im...</td>\n",
       "    </tr>\n",
       "    <tr>\n",
       "      <th>62</th>\n",
       "      <td>THE SPANISH LOVE DECEPTION</td>\n",
       "      <td>Elena Armas</td>\n",
       "      <td>https://storage.googleapis.com/du-prd/books/im...</td>\n",
       "    </tr>\n",
       "  </tbody>\n",
       "</table>\n",
       "<p>63 rows × 3 columns</p>\n",
       "</div>"
      ],
      "text/plain": [
       "                                title                            author  \\\n",
       "0                           THE MATCH                      Harlan Coben   \n",
       "1                      RUN, ROSE, RUN  Dolly Parton and James Patterson   \n",
       "2                     IT ENDS WITH US                    Colleen Hoover   \n",
       "3                              VERITY                    Colleen Hoover   \n",
       "4   THE SEVEN HUSBANDS OF EVELYN HUGO               Taylor Jenkins Reid   \n",
       "..                                ...                               ...   \n",
       "58               THE MIDNIGHT LIBRARY                         Matt Haig   \n",
       "59                           THE MAID                        Nita Prose   \n",
       "60                THE LINCOLN HIGHWAY                       Amor Towles   \n",
       "61                         DARK HORSE                     Gregg Hurwitz   \n",
       "62         THE SPANISH LOVE DECEPTION                       Elena Armas   \n",
       "\n",
       "                                            coverlink  \n",
       "0   https://storage.googleapis.com/du-prd/books/im...  \n",
       "1   https://storage.googleapis.com/du-prd/books/im...  \n",
       "2   https://storage.googleapis.com/du-prd/books/im...  \n",
       "3   https://storage.googleapis.com/du-prd/books/im...  \n",
       "4   https://storage.googleapis.com/du-prd/books/im...  \n",
       "..                                                ...  \n",
       "58  https://storage.googleapis.com/du-prd/books/im...  \n",
       "59  https://storage.googleapis.com/du-prd/books/im...  \n",
       "60  https://storage.googleapis.com/du-prd/books/im...  \n",
       "61  https://storage.googleapis.com/du-prd/books/im...  \n",
       "62  https://storage.googleapis.com/du-prd/books/im...  \n",
       "\n",
       "[63 rows x 3 columns]"
      ]
     },
     "execution_count": 59,
     "metadata": {},
     "output_type": "execute_result"
    }
   ],
   "source": [
    "book_df"
   ]
  },
  {
   "cell_type": "code",
   "execution_count": 60,
   "id": "c7248d2f-db22-4c47-a31f-1db4ee8e5e2d",
   "metadata": {},
   "outputs": [
    {
     "data": {
      "text/html": [
       "<div>\n",
       "<style scoped>\n",
       "    .dataframe tbody tr th:only-of-type {\n",
       "        vertical-align: middle;\n",
       "    }\n",
       "\n",
       "    .dataframe tbody tr th {\n",
       "        vertical-align: top;\n",
       "    }\n",
       "\n",
       "    .dataframe thead th {\n",
       "        text-align: right;\n",
       "    }\n",
       "</style>\n",
       "<table border=\"1\" class=\"dataframe\">\n",
       "  <thead>\n",
       "    <tr style=\"text-align: right;\">\n",
       "      <th></th>\n",
       "      <th>author</th>\n",
       "      <th>coverlink</th>\n",
       "    </tr>\n",
       "    <tr>\n",
       "      <th>title</th>\n",
       "      <th></th>\n",
       "      <th></th>\n",
       "    </tr>\n",
       "  </thead>\n",
       "  <tbody>\n",
       "    <tr>\n",
       "      <th>IT ENDS WITH US</th>\n",
       "      <td>5</td>\n",
       "      <td>5</td>\n",
       "    </tr>\n",
       "    <tr>\n",
       "      <th>VERITY</th>\n",
       "      <td>5</td>\n",
       "      <td>5</td>\n",
       "    </tr>\n",
       "    <tr>\n",
       "      <th>THE LOVE HYPOTHESIS</th>\n",
       "      <td>4</td>\n",
       "      <td>4</td>\n",
       "    </tr>\n",
       "    <tr>\n",
       "      <th>THE SEVEN HUSBANDS OF EVELYN HUGO</th>\n",
       "      <td>4</td>\n",
       "      <td>4</td>\n",
       "    </tr>\n",
       "    <tr>\n",
       "      <th>THE PARIS APARTMENT</th>\n",
       "      <td>4</td>\n",
       "      <td>4</td>\n",
       "    </tr>\n",
       "    <tr>\n",
       "      <th>THE MAID</th>\n",
       "      <td>4</td>\n",
       "      <td>4</td>\n",
       "    </tr>\n",
       "    <tr>\n",
       "      <th>THE LINCOLN HIGHWAY</th>\n",
       "      <td>3</td>\n",
       "      <td>3</td>\n",
       "    </tr>\n",
       "    <tr>\n",
       "      <th>THE MIDNIGHT LIBRARY</th>\n",
       "      <td>3</td>\n",
       "      <td>3</td>\n",
       "    </tr>\n",
       "    <tr>\n",
       "      <th>THE LIGHTNING ROD</th>\n",
       "      <td>2</td>\n",
       "      <td>2</td>\n",
       "    </tr>\n",
       "    <tr>\n",
       "      <th>SHADOWS REEL</th>\n",
       "      <td>2</td>\n",
       "      <td>2</td>\n",
       "    </tr>\n",
       "    <tr>\n",
       "      <th>RUN, ROSE, RUN</th>\n",
       "      <td>2</td>\n",
       "      <td>2</td>\n",
       "    </tr>\n",
       "    <tr>\n",
       "      <th>ABANDONED IN DEATH</th>\n",
       "      <td>2</td>\n",
       "      <td>2</td>\n",
       "    </tr>\n",
       "    <tr>\n",
       "      <th>ONE ITALIAN SUMMER</th>\n",
       "      <td>2</td>\n",
       "      <td>2</td>\n",
       "    </tr>\n",
       "    <tr>\n",
       "      <th>UGLY LOVE</th>\n",
       "      <td>2</td>\n",
       "      <td>2</td>\n",
       "    </tr>\n",
       "    <tr>\n",
       "      <th>THE KAIJU PRESERVATION SOCIETY</th>\n",
       "      <td>1</td>\n",
       "      <td>1</td>\n",
       "    </tr>\n",
       "    <tr>\n",
       "      <th>THE MATCH</th>\n",
       "      <td>1</td>\n",
       "      <td>1</td>\n",
       "    </tr>\n",
       "    <tr>\n",
       "      <th>THE SPANISH LOVE DECEPTION</th>\n",
       "      <td>1</td>\n",
       "      <td>1</td>\n",
       "    </tr>\n",
       "    <tr>\n",
       "      <th>THE LAST THING HE TOLD ME</th>\n",
       "      <td>1</td>\n",
       "      <td>1</td>\n",
       "    </tr>\n",
       "    <tr>\n",
       "      <th>STEAL</th>\n",
       "      <td>1</td>\n",
       "      <td>1</td>\n",
       "    </tr>\n",
       "    <tr>\n",
       "      <th>THE GOLDEN COUPLE</th>\n",
       "      <td>1</td>\n",
       "      <td>1</td>\n",
       "    </tr>\n",
       "    <tr>\n",
       "      <th>THE CHRISTIE AFFAIR</th>\n",
       "      <td>1</td>\n",
       "      <td>1</td>\n",
       "    </tr>\n",
       "    <tr>\n",
       "      <th>CITY OF THE DEAD</th>\n",
       "      <td>1</td>\n",
       "      <td>1</td>\n",
       "    </tr>\n",
       "    <tr>\n",
       "      <th>SIERRA SIX</th>\n",
       "      <td>1</td>\n",
       "      <td>1</td>\n",
       "    </tr>\n",
       "    <tr>\n",
       "      <th>PEOPLE WE MEET ON VACATION</th>\n",
       "      <td>1</td>\n",
       "      <td>1</td>\n",
       "    </tr>\n",
       "    <tr>\n",
       "      <th>NOVEMBER 9</th>\n",
       "      <td>1</td>\n",
       "      <td>1</td>\n",
       "    </tr>\n",
       "    <tr>\n",
       "      <th>HOUSE OF SKY AND BREATH</th>\n",
       "      <td>1</td>\n",
       "      <td>1</td>\n",
       "    </tr>\n",
       "    <tr>\n",
       "      <th>HOUSE OF EARTH AND BLOOD</th>\n",
       "      <td>1</td>\n",
       "      <td>1</td>\n",
       "    </tr>\n",
       "    <tr>\n",
       "      <th>HOOK, LINE, AND SINKER</th>\n",
       "      <td>1</td>\n",
       "      <td>1</td>\n",
       "    </tr>\n",
       "    <tr>\n",
       "      <th>HIGH STAKES</th>\n",
       "      <td>1</td>\n",
       "      <td>1</td>\n",
       "    </tr>\n",
       "    <tr>\n",
       "      <th>GIVE UNTO OTHERS</th>\n",
       "      <td>1</td>\n",
       "      <td>1</td>\n",
       "    </tr>\n",
       "    <tr>\n",
       "      <th>DIABLO MESA</th>\n",
       "      <td>1</td>\n",
       "      <td>1</td>\n",
       "    </tr>\n",
       "    <tr>\n",
       "      <th>DARK HORSE</th>\n",
       "      <td>1</td>\n",
       "      <td>1</td>\n",
       "    </tr>\n",
       "    <tr>\n",
       "      <th>WHERE THE CRAWDADS SING</th>\n",
       "      <td>1</td>\n",
       "      <td>1</td>\n",
       "    </tr>\n",
       "  </tbody>\n",
       "</table>\n",
       "</div>"
      ],
      "text/plain": [
       "                                   author  coverlink\n",
       "title                                               \n",
       "IT ENDS WITH US                         5          5\n",
       "VERITY                                  5          5\n",
       "THE LOVE HYPOTHESIS                     4          4\n",
       "THE SEVEN HUSBANDS OF EVELYN HUGO       4          4\n",
       "THE PARIS APARTMENT                     4          4\n",
       "THE MAID                                4          4\n",
       "THE LINCOLN HIGHWAY                     3          3\n",
       "THE MIDNIGHT LIBRARY                    3          3\n",
       "THE LIGHTNING ROD                       2          2\n",
       "SHADOWS REEL                            2          2\n",
       "RUN, ROSE, RUN                          2          2\n",
       "ABANDONED IN DEATH                      2          2\n",
       "ONE ITALIAN SUMMER                      2          2\n",
       "UGLY LOVE                               2          2\n",
       "THE KAIJU PRESERVATION SOCIETY          1          1\n",
       "THE MATCH                               1          1\n",
       "THE SPANISH LOVE DECEPTION              1          1\n",
       "THE LAST THING HE TOLD ME               1          1\n",
       "STEAL                                   1          1\n",
       "THE GOLDEN COUPLE                       1          1\n",
       "THE CHRISTIE AFFAIR                     1          1\n",
       "CITY OF THE DEAD                        1          1\n",
       "SIERRA SIX                              1          1\n",
       "PEOPLE WE MEET ON VACATION              1          1\n",
       "NOVEMBER 9                              1          1\n",
       "HOUSE OF SKY AND BREATH                 1          1\n",
       "HOUSE OF EARTH AND BLOOD                1          1\n",
       "HOOK, LINE, AND SINKER                  1          1\n",
       "HIGH STAKES                             1          1\n",
       "GIVE UNTO OTHERS                        1          1\n",
       "DIABLO MESA                             1          1\n",
       "DARK HORSE                              1          1\n",
       "WHERE THE CRAWDADS SING                 1          1"
      ]
     },
     "execution_count": 60,
     "metadata": {},
     "output_type": "execute_result"
    }
   ],
   "source": [
    "book_df.groupby(['title']).agg(\"count\").sort_values(by='author',ascending=False)"
   ]
  },
  {
   "cell_type": "code",
   "execution_count": null,
   "id": "1744bddb-fa65-4f5f-bc14-65db862b0e8b",
   "metadata": {},
   "outputs": [],
   "source": []
  }
 ],
 "metadata": {
  "kernelspec": {
   "display_name": "Python 3 (ipykernel)",
   "language": "python",
   "name": "python3"
  },
  "language_info": {
   "codemirror_mode": {
    "name": "ipython",
    "version": 3
   },
   "file_extension": ".py",
   "mimetype": "text/x-python",
   "name": "python",
   "nbconvert_exporter": "python",
   "pygments_lexer": "ipython3",
   "version": "3.7.0"
  }
 },
 "nbformat": 4,
 "nbformat_minor": 5
}
